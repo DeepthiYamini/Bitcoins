{
 "cells": [
  {
   "cell_type": "code",
   "execution_count": 1,
   "id": "3164bf92",
   "metadata": {},
   "outputs": [
    {
     "name": "stdout",
     "output_type": "stream",
     "text": [
      "Submitted form:\n",
      "Name:  Bitcoin\n",
      "Email:  bitcoin@gmail.com\n",
      "Message:  What is bitcoin\n"
     ]
    }
   ],
   "source": [
    "import tkinter\n",
    "\n",
    "# Set window size\n",
    "window = tkinter.Tk()\n",
    "window.geometry(\"500x500\")\n",
    "\n",
    "# Create onboarding screen\n",
    "onboarding_frame = tkinter.Frame(window, background=\"light blue\")\n",
    "onboarding_frame.pack()\n",
    "\n",
    "# Create welcome message\n",
    "tkinter.Label(onboarding_frame, text=\"Welcome to the Bitcoin Support App!\", font=(\"Arial\", 15)).pack()\n",
    "\n",
    "# Create onboarding instructions\n",
    "tkinter.Label(onboarding_frame, text=\"This app can help you manage your Bitcoin account and get answers to any questions you might have.\", font=(\"Arial\", 12)).pack()\n",
    "\n",
    "# Create a contact form\n",
    "form_frame = tkinter.Frame(window)\n",
    "form_frame.pack()\n",
    "\n",
    "tkinter.Label(form_frame, text=\"Name:\", font=(\"Arial\", 12)).grid(row=0, column=0, sticky=\"e\")\n",
    "name_entry = tkinter.Entry(form_frame)\n",
    "name_entry.grid(row=0, column=1)\n",
    "\n",
    "tkinter.Label(form_frame, text=\"Email:\", font=(\"Arial\", 12)).grid(row=1, column=0, sticky=\"e\")\n",
    "email_entry = tkinter.Entry(form_frame)\n",
    "email_entry.grid(row=1, column=1)\n",
    "\n",
    "tkinter.Label(form_frame, text=\"Message:\", font=(\"Arial\", 12)).grid(row=2, column=0, sticky=\"e\")\n",
    "message_entry = tkinter.Text(form_frame, height=5, width=30)\n",
    "message_entry.grid(row=2, column=1)\n",
    "\n",
    "# Create submit button\n",
    "submit_button = tkinter.Button(form_frame, text=\"Submit\", font=(\"Arial\", 12), command=lambda: submit_form(name_entry.get(), email_entry.get(), message_entry.get(\"1.0\", \"end-1c\")))\n",
    "submit_button.grid(row=3, column=1)\n",
    "\n",
    "def submit_form(name, email, message):\n",
    "    # Submit form to database\n",
    "    print(\"Submitted form:\")\n",
    "    print(\"Name: \", name)\n",
    "    print(\"Email: \", email)\n",
    "    print(\"Message: \", message)\n",
    "\n",
    "window.mainloop()"
   ]
  },
  {
   "cell_type": "code",
   "execution_count": null,
   "id": "12473081",
   "metadata": {},
   "outputs": [],
   "source": []
  }
 ],
 "metadata": {
  "kernelspec": {
   "display_name": "Python 3 (ipykernel)",
   "language": "python",
   "name": "python3"
  },
  "language_info": {
   "codemirror_mode": {
    "name": "ipython",
    "version": 3
   },
   "file_extension": ".py",
   "mimetype": "text/x-python",
   "name": "python",
   "nbconvert_exporter": "python",
   "pygments_lexer": "ipython3",
   "version": "3.9.13"
  }
 },
 "nbformat": 4,
 "nbformat_minor": 5
}
