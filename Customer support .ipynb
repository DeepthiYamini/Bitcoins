{
 "cells": [
  {
   "cell_type": "code",
   "execution_count": 1,
   "id": "61964aab",
   "metadata": {},
   "outputs": [
    {
     "name": "stdout",
     "output_type": "stream",
     "text": [
      "  Customer Name Wallet Address                     Problem  Solution\n",
      "0          John       LKJHGFR3          Wallet not syncing       NaN\n",
      "1         James         DFGFG3   Transaction not confirmed       NaN\n",
      "2          Jack         HGFDS3              Password reset       NaN\n",
      "3         Henry       KLJHGFD3      Unable to view balance       NaN\n",
      "4         Harry       LKJHGFD3  Unable to receive bitcoins       NaN\n",
      "  Customer Name Wallet Address                     Problem  \\\n",
      "0          John       LKJHGFR3          Wallet not syncing   \n",
      "1         James         DFGFG3   Transaction not confirmed   \n",
      "2          Jack         HGFDS3              Password reset   \n",
      "3         Henry       KLJHGFD3      Unable to view balance   \n",
      "4         Harry       LKJHGFD3  Unable to receive bitcoins   \n",
      "\n",
      "                                            Solution  \n",
      "0  Check your internet connection, close the app ...  \n",
      "1  Check your transaction status, if pending, wai...  \n",
      "2         Reset your password using the reset option  \n",
      "3         Check your wallet address, restart the app  \n",
      "4       Check the sender address, ask them to resend  \n"
     ]
    }
   ],
   "source": [
    "#Importing Libraries\n",
    "\n",
    "import pandas as pd\n",
    "import numpy as np\n",
    "\n",
    "#Creating DataFrame for Customer Support App\n",
    "\n",
    "df = pd.DataFrame({'Customer Name':['John','James','Jack','Henry','Harry'],\n",
    "                   'Wallet Address':['LKJHGFR3','DFGFG3','HGFDS3','KLJHGFD3','LKJHGFD3'],\n",
    "                   'Problem':['Wallet not syncing','Transaction not confirmed','Password reset','Unable to view balance','Unable to receive bitcoins'],\n",
    "                   'Solution':[np.nan,np.nan,np.nan,np.nan,np.nan]})\n",
    "\n",
    "print(df)\n",
    "\n",
    "#Function to solve Problems\n",
    "\n",
    "def solveProblem(data):\n",
    "    for i in range(len(data)):\n",
    "        if data.loc[i,'Problem'] == 'Wallet not syncing':\n",
    "            data.loc[i,'Solution'] = 'Check your internet connection, close the app and restart'\n",
    "        elif data.loc[i,'Problem'] == 'Transaction not confirmed':\n",
    "            data.loc[i,'Solution'] = 'Check your transaction status, if pending, wait for confirmation'\n",
    "        elif data.loc[i,'Problem'] == 'Password reset':\n",
    "            data.loc[i,'Solution'] = 'Reset your password using the reset option'\n",
    "        elif data.loc[i,'Problem'] == 'Unable to view balance':\n",
    "            data.loc[i,'Solution'] = 'Check your wallet address, restart the app'\n",
    "        elif data.loc[i,'Problem'] == 'Unable to receive bitcoins':\n",
    "            data.loc[i,'Solution'] = 'Check the sender address, ask them to resend'\n",
    "    return data\n",
    "\n",
    "#Calling the solveProblem() function\n",
    "\n",
    "solveProblem(df)\n",
    "\n",
    "#Print the updated DataFrame\n",
    "\n",
    "print(df)"
   ]
  },
  {
   "cell_type": "code",
   "execution_count": null,
   "id": "5e87bf81",
   "metadata": {},
   "outputs": [],
   "source": []
  }
 ],
 "metadata": {
  "kernelspec": {
   "display_name": "Python 3 (ipykernel)",
   "language": "python",
   "name": "python3"
  },
  "language_info": {
   "codemirror_mode": {
    "name": "ipython",
    "version": 3
   },
   "file_extension": ".py",
   "mimetype": "text/x-python",
   "name": "python",
   "nbconvert_exporter": "python",
   "pygments_lexer": "ipython3",
   "version": "3.9.13"
  }
 },
 "nbformat": 4,
 "nbformat_minor": 5
}
